{
 "cells": [
  {
   "cell_type": "markdown",
   "metadata": {},
   "source": [
    "# Pythonで覚えておくと便利な構文\n",
    "\n",
    "データサインエンス、競技プログラミングでよく使用される中級者用の構文をまとめた。"
   ]
  },
  {
   "cell_type": "markdown",
   "metadata": {},
   "source": [
    "## Print関数の便利な拡張\n",
    "\n",
    "主に文字列の中に値を代入する方法を紹介する"
   ]
  },
  {
   "cell_type": "markdown",
   "metadata": {},
   "source": [
    "### format"
   ]
  },
  {
   "cell_type": "code",
   "execution_count": 35,
   "metadata": {},
   "outputs": [
    {
     "name": "stdout",
     "output_type": "stream",
     "text": [
      "This is cat.\n"
     ]
    }
   ],
   "source": [
    "animal = 'cat'\n",
    "\n",
    "print('This is {}.'.format(animal))"
   ]
  },
  {
   "cell_type": "markdown",
   "metadata": {},
   "source": [
    "代入するものを指定することでより複雑に書ける"
   ]
  },
  {
   "cell_type": "code",
   "execution_count": 36,
   "metadata": {},
   "outputs": [
    {
     "name": "stdout",
     "output_type": "stream",
     "text": [
      "These are cat, dog and rabbit.\n"
     ]
    }
   ],
   "source": [
    "print('These are {a}, {b} and {c}.'.format(a=\"cat\", b='dog', c='rabbit'))"
   ]
  },
  {
   "cell_type": "markdown",
   "metadata": {},
   "source": [
    "### f文字列"
   ]
  },
  {
   "cell_type": "code",
   "execution_count": 37,
   "metadata": {},
   "outputs": [
    {
     "name": "stdout",
     "output_type": "stream",
     "text": [
      "This is cat.\n"
     ]
    }
   ],
   "source": [
    "animal = 'cat'\n",
    "\n",
    "print(f'This is {animal}.')"
   ]
  },
  {
   "cell_type": "markdown",
   "metadata": {},
   "source": [
    "### 代入する値の書式設定\n",
    "\n",
    "{値:書式}で代入する値の書式を設定できます。\n",
    "\n",
    "よく使用するものを二つ紹介します\n",
    "\n",
    "- {値 :, } : 位取り\n",
    "- {値 :.1f} : 小数第１位まで表示（数字は任意に変えられる） "
   ]
  },
  {
   "cell_type": "code",
   "execution_count": 38,
   "metadata": {},
   "outputs": [
    {
     "name": "stdout",
     "output_type": "stream",
     "text": [
      "120,000,000 : 1.23\n",
      "120,000,000 : 1.2\n"
     ]
    }
   ],
   "source": [
    "a1 = 120000000\n",
    "a2 = 1.234567\n",
    "\n",
    "# formatの場合\n",
    "print('{:,} : {:.2f}'.format(a1, a2))\n",
    "\n",
    "# f文字列の場合\n",
    "print(f'{a1:,} : {a2:.1f}')"
   ]
  },
  {
   "cell_type": "markdown",
   "metadata": {},
   "source": [
    "## for文の機能をさらに拡張した基本構文\n",
    "\n",
    "for文の拡張で便利なものを紹介する"
   ]
  },
  {
   "cell_type": "markdown",
   "metadata": {},
   "source": [
    "### 辞書型をfor分で使用する"
   ]
  },
  {
   "cell_type": "code",
   "execution_count": 5,
   "metadata": {},
   "outputs": [
    {
     "name": "stdout",
     "output_type": "stream",
     "text": [
      "a1 : 1\n",
      "a2 : 2\n"
     ]
    }
   ],
   "source": [
    "dict = {'a1':1, 'a2':2}\n",
    "\n",
    "for key, value in dict.items():\n",
    "    print(key, ':', value)"
   ]
  },
  {
   "cell_type": "markdown",
   "metadata": {},
   "source": [
    "###  enumerate関数 : index番号を同時に利用する"
   ]
  },
  {
   "cell_type": "code",
   "execution_count": 7,
   "metadata": {},
   "outputs": [
    {
     "name": "stdout",
     "output_type": "stream",
     "text": [
      "0 : a1\n",
      "1 : a2\n",
      "2 : a3\n"
     ]
    }
   ],
   "source": [
    "list1 = ['a1', 'a2', 'a3']\n",
    "\n",
    "for index, lis in enumerate(list1):\n",
    "    print(index,':', lis)"
   ]
  },
  {
   "cell_type": "markdown",
   "metadata": {},
   "source": [
    "### zip関数 : 複数の要素を同時に利用する"
   ]
  },
  {
   "cell_type": "code",
   "execution_count": 8,
   "metadata": {},
   "outputs": [
    {
     "name": "stdout",
     "output_type": "stream",
     "text": [
      "a1 : b1 : c1\n",
      "a2 : b2 : c2\n",
      "a3 : b3 : c3\n"
     ]
    }
   ],
   "source": [
    "list1 = ['a1', 'a2', 'a3']\n",
    "list2 = ['b1', 'b2', 'b3']\n",
    "list3 = ['c1', 'c2', 'c3']\n",
    "\n",
    "for lis1, lis2, lis3 in zip(list1, list2, list3):\n",
    "    print(lis1, ':', lis2, ':', lis3)"
   ]
  },
  {
   "cell_type": "markdown",
   "metadata": {},
   "source": [
    "## リスト内包表記\n",
    "\n",
    "リスト内包表記を利用することで、コードが簡潔になる"
   ]
  },
  {
   "cell_type": "markdown",
   "metadata": {},
   "source": [
    "### リスト内包表記\n",
    "\n",
    "[ 処理 for 変数 in イテラブル]"
   ]
  },
  {
   "cell_type": "code",
   "execution_count": 9,
   "metadata": {},
   "outputs": [
    {
     "name": "stdout",
     "output_type": "stream",
     "text": [
      "[1, 4, 9]\n"
     ]
    }
   ],
   "source": [
    "list1 = [1, 2, 3]\n",
    "\n",
    "list2 = [lis1**2 for lis1 in list1]\n",
    "print(list2)"
   ]
  },
  {
   "cell_type": "markdown",
   "metadata": {},
   "source": [
    "### リスト内包表記（条件付き）\n",
    "\n",
    "[ 処理 for 変数 in イテラブル if 条件式 ]"
   ]
  },
  {
   "cell_type": "code",
   "execution_count": 39,
   "metadata": {},
   "outputs": [
    {
     "name": "stdout",
     "output_type": "stream",
     "text": [
      "[2, 4, 6, 8, 10]\n"
     ]
    }
   ],
   "source": [
    "list1 = [1, 2, 3, 4, 5, 6, 7, 8, 9, 10]\n",
    "\n",
    "list2 = [lis1 for lis1 in list1 if lis1%2 == 0]\n",
    "print(list2)"
   ]
  },
  {
   "cell_type": "markdown",
   "metadata": {},
   "source": [
    "複数の条件を設定することもできる"
   ]
  },
  {
   "cell_type": "code",
   "execution_count": 40,
   "metadata": {},
   "outputs": [
    {
     "name": "stdout",
     "output_type": "stream",
     "text": [
      "[4]\n"
     ]
    }
   ],
   "source": [
    "list1 = [1, 2, 3, 4, 5, 6, 7, 8, 9, 10]\n",
    "\n",
    "list2 = [lis1 for lis1 in list1 if lis1%2 == 0 if lis1 == 4]\n",
    "print(list2)"
   ]
  },
  {
   "cell_type": "markdown",
   "metadata": {},
   "source": [
    "### 辞書内包表記\n",
    "\n",
    "zip関数を使用する"
   ]
  },
  {
   "cell_type": "code",
   "execution_count": 41,
   "metadata": {},
   "outputs": [
    {
     "name": "stdout",
     "output_type": "stream",
     "text": [
      "{'a1': 100, 'a2': 200, 'a3': 300}\n"
     ]
    }
   ],
   "source": [
    "list1 = ['a1', 'a2', 'a3']\n",
    "list2 = [100, 200, 300]\n",
    "\n",
    "dict = {lis1:lis2 for lis1, lis2 in zip(list1, list2)}\n",
    "print(dict)"
   ]
  },
  {
   "cell_type": "markdown",
   "metadata": {},
   "source": [
    "### 引数をタプル化（*args）"
   ]
  },
  {
   "cell_type": "code",
   "execution_count": 42,
   "metadata": {},
   "outputs": [
    {
     "name": "stdout",
     "output_type": "stream",
     "text": [
      "('cat', 'dog', 'rabbit')\n"
     ]
    }
   ],
   "source": [
    "def animal(*args):\n",
    "    print(args)\n",
    "    \n",
    "animal('cat', 'dog', 'rabbit')"
   ]
  },
  {
   "cell_type": "code",
   "execution_count": 43,
   "metadata": {},
   "outputs": [
    {
     "name": "stdout",
     "output_type": "stream",
     "text": [
      "cat\n",
      "dog\n",
      "rabbit\n"
     ]
    }
   ],
   "source": [
    "# 関数内でfor文を使用\n",
    "def animal(*args):\n",
    "    for arg in args:\n",
    "        print(arg)\n",
    "        \n",
    "animal('cat', 'dog', 'rabbit')      "
   ]
  },
  {
   "cell_type": "markdown",
   "metadata": {},
   "source": [
    "### キーワード引数を辞書化（**kwargs）"
   ]
  },
  {
   "cell_type": "code",
   "execution_count": 44,
   "metadata": {},
   "outputs": [
    {
     "name": "stdout",
     "output_type": "stream",
     "text": [
      "{'animal1': 'cat', 'animal2': 'dog', 'animal3': 'rabbit'}\n"
     ]
    }
   ],
   "source": [
    "def animal(**kwargs):\n",
    "    print(kwargs)\n",
    "    \n",
    "animal(animal1='cat', animal2='dog', animal3='rabbit' )"
   ]
  },
  {
   "cell_type": "code",
   "execution_count": 45,
   "metadata": {},
   "outputs": [
    {
     "name": "stdout",
     "output_type": "stream",
     "text": [
      "animal1 : cat\n",
      "animal2 : dog\n",
      "animal3 : rabbit\n"
     ]
    }
   ],
   "source": [
    "def animal(**kwargs):\n",
    "    for key, value in kwargs.items():\n",
    "        print(key,':', value)\n",
    "        \n",
    "animal(animal1='cat', animal2='dog', animal3='rabbit' )"
   ]
  },
  {
   "cell_type": "markdown",
   "metadata": {},
   "source": [
    "## ラムダ式関数\n",
    "\n",
    "lambda 引数 : 実行するステートメント"
   ]
  },
  {
   "cell_type": "code",
   "execution_count": 17,
   "metadata": {},
   "outputs": [
    {
     "data": {
      "text/plain": [
       "6"
      ]
     },
     "execution_count": 17,
     "metadata": {},
     "output_type": "execute_result"
    }
   ],
   "source": [
    "duble = lambda x : 2 * x\n",
    "duble(3)"
   ]
  },
  {
   "cell_type": "code",
   "execution_count": 18,
   "metadata": {},
   "outputs": [
    {
     "data": {
      "text/plain": [
       "6"
      ]
     },
     "execution_count": 18,
     "metadata": {},
     "output_type": "execute_result"
    }
   ],
   "source": [
    "(lambda x : 2 * x)(3)"
   ]
  },
  {
   "cell_type": "markdown",
   "metadata": {},
   "source": [
    "## map : リストの要素をまとめて処理\n",
    "\n",
    "map(関数 : イテラブル）"
   ]
  },
  {
   "cell_type": "code",
   "execution_count": 21,
   "metadata": {},
   "outputs": [
    {
     "name": "stdout",
     "output_type": "stream",
     "text": [
      "[1, 2, 3, 4]\n"
     ]
    }
   ],
   "source": [
    "list1 = ['1', '2', '3', '4']\n",
    "\n",
    "# mapはmap型になっているのでlist()を実行\n",
    "list2 = list(map(int, list1))\n",
    "print(list2)"
   ]
  },
  {
   "cell_type": "markdown",
   "metadata": {},
   "source": [
    "ラムダ型が有効活用される"
   ]
  },
  {
   "cell_type": "code",
   "execution_count": 24,
   "metadata": {},
   "outputs": [
    {
     "name": "stdout",
     "output_type": "stream",
     "text": [
      "[1, 4, 9, 16]\n"
     ]
    }
   ],
   "source": [
    "list1 = [1, 2, 3, 4]\n",
    "\n",
    "list2 = list(map(lambda x : x**2, list1))\n",
    "print(list2)"
   ]
  },
  {
   "cell_type": "markdown",
   "metadata": {},
   "source": [
    "## イテレータ\n",
    "\n",
    "イテレーター利用する前に、用語をまとめておきます。\n",
    "\n",
    "- イテラブル : 要素を順に取り出せるオブジェクト\n",
    "- イテレータ : ある値の要素を順番に一つずつ取り出すオブジェクト\n",
    "- ジェネレータ : イテレータを作る関数 "
   ]
  },
  {
   "cell_type": "markdown",
   "metadata": {},
   "source": [
    "### iter() : イテラブルからイテレータを作成"
   ]
  },
  {
   "cell_type": "code",
   "execution_count": 29,
   "metadata": {},
   "outputs": [
    {
     "name": "stdout",
     "output_type": "stream",
     "text": [
      "a1\n",
      "a2\n",
      "a3\n"
     ]
    }
   ],
   "source": [
    "list1 = ['a1', 'a2', 'a3']\n",
    "iterator1 = iter(list1)\n",
    "\n",
    "print(next(iterator1))\n",
    "print(next(iterator1))\n",
    "print(next(iterator1))"
   ]
  },
  {
   "cell_type": "markdown",
   "metadata": {},
   "source": [
    "### ジェネレータ\n",
    "\n",
    "returnの代わりにyieldを使用することで作成できます。"
   ]
  },
  {
   "cell_type": "code",
   "execution_count": 31,
   "metadata": {},
   "outputs": [
    {
     "name": "stdout",
     "output_type": "stream",
     "text": [
      "a1\n",
      "a2\n",
      "a3\n"
     ]
    }
   ],
   "source": [
    "def gen():\n",
    "    yield 'a1'\n",
    "    yield 'a2'\n",
    "    yield 'a3'\n",
    "    \n",
    "generator1 = gen()\n",
    "\n",
    "print(next(generator1))\n",
    "print(next(generator1))\n",
    "print(next(generator1))"
   ]
  },
  {
   "cell_type": "markdown",
   "metadata": {},
   "source": [
    "for文でも使うことができる\n",
    "\n",
    "<font color=\"Red\">全ての要素が取り出し終わるとforループは終了します</font>"
   ]
  },
  {
   "cell_type": "code",
   "execution_count": 34,
   "metadata": {},
   "outputs": [
    {
     "name": "stdout",
     "output_type": "stream",
     "text": [
      "a1\n",
      "a2\n",
      "a3\n"
     ]
    }
   ],
   "source": [
    "def gen():\n",
    "    yield 'a1'\n",
    "    yield 'a2'\n",
    "    yield 'a3'\n",
    "    \n",
    "generator1 = gen()\n",
    "\n",
    "for i in generator1:\n",
    "    print(i)"
   ]
  }
 ],
 "metadata": {
  "kernelspec": {
   "display_name": "Python 3",
   "language": "python",
   "name": "python3"
  },
  "language_info": {
   "codemirror_mode": {
    "name": "ipython",
    "version": 3
   },
   "file_extension": ".py",
   "mimetype": "text/x-python",
   "name": "python",
   "nbconvert_exporter": "python",
   "pygments_lexer": "ipython3",
   "version": "3.7.6"
  }
 },
 "nbformat": 4,
 "nbformat_minor": 4
}
